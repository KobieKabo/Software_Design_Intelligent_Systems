{
 "cells": [
  {
   "cell_type": "markdown",
   "id": "79c0774e-5d5e-4ece-ab35-a4ef39fa7070",
   "metadata": {},
   "source": [
    "# Part One: Importing data & Preliminary Analysis"
   ]
  },
  {
   "cell_type": "code",
   "execution_count": 123,
   "id": "f6b36326-83b5-40d2-b040-b654d63cb892",
   "metadata": {},
   "outputs": [],
   "source": [
    "import pandas as pd\n",
    "import numpy as np\n",
    "import seaborn as sns\n",
    "import matplotlib.pyplot as plt\n",
    "from sklearn.metrics import classification_report"
   ]
  },
  {
   "cell_type": "code",
   "execution_count": 124,
   "id": "24057fd1-e2f2-4349-ac7e-685f9b6f05a2",
   "metadata": {},
   "outputs": [],
   "source": [
    "data = pd.read_csv('project2.data')"
   ]
  },
  {
   "cell_type": "code",
   "execution_count": 125,
   "id": "5b994f58-a0c4-497f-9cb5-f29ca1b703f5",
   "metadata": {},
   "outputs": [
    {
     "name": "stdout",
     "output_type": "stream",
     "text": [
      "(286, 10)\n",
      "2860\n"
     ]
    }
   ],
   "source": [
    "print(f'{data.shape}\\n{data.size}')"
   ]
  },
  {
   "cell_type": "code",
   "execution_count": 126,
   "id": "a223a1a2-4820-4744-a6d9-9b1c436724b6",
   "metadata": {},
   "outputs": [
    {
     "data": {
      "text/html": [
       "<div>\n",
       "<style scoped>\n",
       "    .dataframe tbody tr th:only-of-type {\n",
       "        vertical-align: middle;\n",
       "    }\n",
       "\n",
       "    .dataframe tbody tr th {\n",
       "        vertical-align: top;\n",
       "    }\n",
       "\n",
       "    .dataframe thead th {\n",
       "        text-align: right;\n",
       "    }\n",
       "</style>\n",
       "<table border=\"1\" class=\"dataframe\">\n",
       "  <thead>\n",
       "    <tr style=\"text-align: right;\">\n",
       "      <th></th>\n",
       "      <th>class</th>\n",
       "      <th>age</th>\n",
       "      <th>menopause</th>\n",
       "      <th>tumor-size</th>\n",
       "      <th>inv-nodes</th>\n",
       "      <th>node-caps</th>\n",
       "      <th>deg-malig</th>\n",
       "      <th>breast</th>\n",
       "      <th>breast-quad</th>\n",
       "      <th>irradiat</th>\n",
       "    </tr>\n",
       "  </thead>\n",
       "  <tbody>\n",
       "    <tr>\n",
       "      <th>0</th>\n",
       "      <td>no-recurrence-events</td>\n",
       "      <td>30-39</td>\n",
       "      <td>premeno</td>\n",
       "      <td>30-34</td>\n",
       "      <td>0-2</td>\n",
       "      <td>no</td>\n",
       "      <td>3</td>\n",
       "      <td>left</td>\n",
       "      <td>left_low</td>\n",
       "      <td>no</td>\n",
       "    </tr>\n",
       "    <tr>\n",
       "      <th>1</th>\n",
       "      <td>no-recurrence-events</td>\n",
       "      <td>40-49</td>\n",
       "      <td>premeno</td>\n",
       "      <td>20-24</td>\n",
       "      <td>0-2</td>\n",
       "      <td>no</td>\n",
       "      <td>2</td>\n",
       "      <td>right</td>\n",
       "      <td>right_up</td>\n",
       "      <td>no</td>\n",
       "    </tr>\n",
       "    <tr>\n",
       "      <th>2</th>\n",
       "      <td>no-recurrence-events</td>\n",
       "      <td>40-49</td>\n",
       "      <td>premeno</td>\n",
       "      <td>20-24</td>\n",
       "      <td>0-2</td>\n",
       "      <td>no</td>\n",
       "      <td>2</td>\n",
       "      <td>left</td>\n",
       "      <td>left_low</td>\n",
       "      <td>no</td>\n",
       "    </tr>\n",
       "    <tr>\n",
       "      <th>3</th>\n",
       "      <td>no-recurrence-events</td>\n",
       "      <td>60-69</td>\n",
       "      <td>ge40</td>\n",
       "      <td>15-19</td>\n",
       "      <td>0-2</td>\n",
       "      <td>no</td>\n",
       "      <td>2</td>\n",
       "      <td>right</td>\n",
       "      <td>left_up</td>\n",
       "      <td>no</td>\n",
       "    </tr>\n",
       "    <tr>\n",
       "      <th>4</th>\n",
       "      <td>no-recurrence-events</td>\n",
       "      <td>40-49</td>\n",
       "      <td>premeno</td>\n",
       "      <td>0-4</td>\n",
       "      <td>0-2</td>\n",
       "      <td>no</td>\n",
       "      <td>2</td>\n",
       "      <td>right</td>\n",
       "      <td>right_low</td>\n",
       "      <td>no</td>\n",
       "    </tr>\n",
       "  </tbody>\n",
       "</table>\n",
       "</div>"
      ],
      "text/plain": [
       "                  class    age menopause tumor-size inv-nodes node-caps  \\\n",
       "0  no-recurrence-events  30-39   premeno      30-34       0-2        no   \n",
       "1  no-recurrence-events  40-49   premeno      20-24       0-2        no   \n",
       "2  no-recurrence-events  40-49   premeno      20-24       0-2        no   \n",
       "3  no-recurrence-events  60-69      ge40      15-19       0-2        no   \n",
       "4  no-recurrence-events  40-49   premeno        0-4       0-2        no   \n",
       "\n",
       "   deg-malig breast breast-quad irradiat  \n",
       "0          3   left    left_low       no  \n",
       "1          2  right    right_up       no  \n",
       "2          2   left    left_low       no  \n",
       "3          2  right     left_up       no  \n",
       "4          2  right   right_low       no  "
      ]
     },
     "execution_count": 126,
     "metadata": {},
     "output_type": "execute_result"
    }
   ],
   "source": [
    "data.head()"
   ]
  },
  {
   "cell_type": "code",
   "execution_count": 127,
   "id": "6a61531e-9c36-42ab-96ac-cddf3fd0ca9b",
   "metadata": {},
   "outputs": [
    {
     "name": "stdout",
     "output_type": "stream",
     "text": [
      "<class 'pandas.core.frame.DataFrame'>\n",
      "RangeIndex: 286 entries, 0 to 285\n",
      "Data columns (total 10 columns):\n",
      " #   Column       Non-Null Count  Dtype \n",
      "---  ------       --------------  ----- \n",
      " 0   Recurrence   286 non-null    object\n",
      " 1   age          286 non-null    object\n",
      " 2   menopause    286 non-null    object\n",
      " 3   tumor-size   286 non-null    object\n",
      " 4   inv-nodes    286 non-null    object\n",
      " 5   node-caps    286 non-null    object\n",
      " 6   deg-malig    286 non-null    int64 \n",
      " 7   breast       286 non-null    object\n",
      " 8   breast-quad  286 non-null    object\n",
      " 9   Irradiated   286 non-null    object\n",
      "dtypes: int64(1), object(9)\n",
      "memory usage: 22.5+ KB\n",
      "Recurrence     0\n",
      "age            0\n",
      "menopause      0\n",
      "tumor-size     0\n",
      "inv-nodes      0\n",
      "node-caps      0\n",
      "deg-malig      0\n",
      "breast         0\n",
      "breast-quad    0\n",
      "Irradiated     0\n",
      "dtype: int64\n"
     ]
    }
   ],
   "source": [
    "# renamed Column to fix typo & Add clarity to variable names\n",
    "data = data.rename(columns={'irradiat': 'Irradiated','class': 'Recurrence' })\n",
    "data.info()\n",
    "print(data.isnull().sum())"
   ]
  },
  {
   "cell_type": "markdown",
   "id": "c39d2049-8d10-4943-bfb2-48763604b387",
   "metadata": {},
   "source": [
    "We see that a large majority of the datatypes are objects, this means we must do data type conversion for better use! In addition to this, we also see that have no null values! This is good, but that doesn't mean every value in our data is a good value."
   ]
  },
  {
   "cell_type": "markdown",
   "id": "febf54b3-679d-4e8b-b450-279010015ca6",
   "metadata": {
    "jp-MarkdownHeadingCollapsed": true
   },
   "source": [
    "## Data Pre-Processing & Data Tidying"
   ]
  },
  {
   "cell_type": "code",
   "execution_count": 128,
   "id": "78a3ab0b-3880-45e7-a6e4-a5560d386d4e",
   "metadata": {},
   "outputs": [
    {
     "name": "stdout",
     "output_type": "stream",
     "text": [
      "Recurrence: ['no-recurrence-events' 'recurrence-events']\n",
      "\n",
      "age: ['30-39' '40-49' '60-69' '50-59' '70-79' '20-29']\n",
      "\n",
      "menopause: ['premeno' 'ge40' 'lt40']\n",
      "\n",
      "tumor-size: ['30-34' '20-24' '15-19' '0-4' '25-29' '50-54' '10-14' '40-44' '35-39'\n",
      " '5-9' '45-49']\n",
      "\n",
      "inv-nodes: ['0-2' '6-8' '9-11' '3-5' '15-17' '12-14' '24-26']\n",
      "\n",
      "node-caps: ['no' 'yes' '?']\n",
      "\n",
      "deg-malig: [3 2 1]\n",
      "\n",
      "breast: ['left' 'right']\n",
      "\n",
      "breast-quad: ['left_low' 'right_up' 'left_up' 'right_low' 'central' '?']\n",
      "\n",
      "Irradiated: ['no' 'yes']\n",
      "\n"
     ]
    }
   ],
   "source": [
    "# Indentifies all the unique values within our columns\n",
    "for col in data:\n",
    "    print(f'{col}: {data[col].unique()}\\n')"
   ]
  },
  {
   "cell_type": "markdown",
   "id": "0facabec-7a17-4a92-a51b-ab6b4a84c8e4",
   "metadata": {
    "jp-MarkdownHeadingCollapsed": true
   },
   "source": [
    "## Finding 'Bad' Values"
   ]
  },
  {
   "cell_type": "code",
   "execution_count": 129,
   "id": "5ed8eeeb-aae8-4e85-a596-6be471460e58",
   "metadata": {},
   "outputs": [
    {
     "data": {
      "text/html": [
       "<div>\n",
       "<style scoped>\n",
       "    .dataframe tbody tr th:only-of-type {\n",
       "        vertical-align: middle;\n",
       "    }\n",
       "\n",
       "    .dataframe tbody tr th {\n",
       "        vertical-align: top;\n",
       "    }\n",
       "\n",
       "    .dataframe thead th {\n",
       "        text-align: right;\n",
       "    }\n",
       "</style>\n",
       "<table border=\"1\" class=\"dataframe\">\n",
       "  <thead>\n",
       "    <tr style=\"text-align: right;\">\n",
       "      <th></th>\n",
       "      <th>Recurrence</th>\n",
       "      <th>age</th>\n",
       "      <th>menopause</th>\n",
       "      <th>tumor-size</th>\n",
       "      <th>inv-nodes</th>\n",
       "      <th>node-caps</th>\n",
       "      <th>deg-malig</th>\n",
       "      <th>breast</th>\n",
       "      <th>breast-quad</th>\n",
       "      <th>Irradiated</th>\n",
       "    </tr>\n",
       "  </thead>\n",
       "  <tbody>\n",
       "    <tr>\n",
       "      <th>206</th>\n",
       "      <td>recurrence-events</td>\n",
       "      <td>50-59</td>\n",
       "      <td>ge40</td>\n",
       "      <td>30-34</td>\n",
       "      <td>0-2</td>\n",
       "      <td>no</td>\n",
       "      <td>3</td>\n",
       "      <td>left</td>\n",
       "      <td>?</td>\n",
       "      <td>no</td>\n",
       "    </tr>\n",
       "  </tbody>\n",
       "</table>\n",
       "</div>"
      ],
      "text/plain": [
       "            Recurrence    age menopause tumor-size inv-nodes node-caps  \\\n",
       "206  recurrence-events  50-59      ge40      30-34       0-2        no   \n",
       "\n",
       "     deg-malig breast breast-quad Irradiated  \n",
       "206          3   left           ?         no  "
      ]
     },
     "execution_count": 129,
     "metadata": {},
     "output_type": "execute_result"
    }
   ],
   "source": [
    "data.loc[data['breast-quad'] == '?']"
   ]
  },
  {
   "cell_type": "code",
   "execution_count": 130,
   "id": "40acfe85-77e4-428b-9c33-f9c7a51ae1f4",
   "metadata": {},
   "outputs": [
    {
     "data": {
      "text/html": [
       "<div>\n",
       "<style scoped>\n",
       "    .dataframe tbody tr th:only-of-type {\n",
       "        vertical-align: middle;\n",
       "    }\n",
       "\n",
       "    .dataframe tbody tr th {\n",
       "        vertical-align: top;\n",
       "    }\n",
       "\n",
       "    .dataframe thead th {\n",
       "        text-align: right;\n",
       "    }\n",
       "</style>\n",
       "<table border=\"1\" class=\"dataframe\">\n",
       "  <thead>\n",
       "    <tr style=\"text-align: right;\">\n",
       "      <th></th>\n",
       "      <th>Recurrence</th>\n",
       "      <th>age</th>\n",
       "      <th>menopause</th>\n",
       "      <th>tumor-size</th>\n",
       "      <th>inv-nodes</th>\n",
       "      <th>node-caps</th>\n",
       "      <th>deg-malig</th>\n",
       "      <th>breast</th>\n",
       "      <th>breast-quad</th>\n",
       "      <th>Irradiated</th>\n",
       "    </tr>\n",
       "  </thead>\n",
       "  <tbody>\n",
       "    <tr>\n",
       "      <th>145</th>\n",
       "      <td>no-recurrence-events</td>\n",
       "      <td>40-49</td>\n",
       "      <td>premeno</td>\n",
       "      <td>25-29</td>\n",
       "      <td>0-2</td>\n",
       "      <td>?</td>\n",
       "      <td>2</td>\n",
       "      <td>left</td>\n",
       "      <td>right_low</td>\n",
       "      <td>yes</td>\n",
       "    </tr>\n",
       "    <tr>\n",
       "      <th>163</th>\n",
       "      <td>no-recurrence-events</td>\n",
       "      <td>60-69</td>\n",
       "      <td>ge40</td>\n",
       "      <td>25-29</td>\n",
       "      <td>3-5</td>\n",
       "      <td>?</td>\n",
       "      <td>1</td>\n",
       "      <td>right</td>\n",
       "      <td>left_up</td>\n",
       "      <td>yes</td>\n",
       "    </tr>\n",
       "    <tr>\n",
       "      <th>164</th>\n",
       "      <td>no-recurrence-events</td>\n",
       "      <td>60-69</td>\n",
       "      <td>ge40</td>\n",
       "      <td>25-29</td>\n",
       "      <td>3-5</td>\n",
       "      <td>?</td>\n",
       "      <td>1</td>\n",
       "      <td>right</td>\n",
       "      <td>left_low</td>\n",
       "      <td>yes</td>\n",
       "    </tr>\n",
       "    <tr>\n",
       "      <th>183</th>\n",
       "      <td>no-recurrence-events</td>\n",
       "      <td>50-59</td>\n",
       "      <td>ge40</td>\n",
       "      <td>30-34</td>\n",
       "      <td>9-11</td>\n",
       "      <td>?</td>\n",
       "      <td>3</td>\n",
       "      <td>left</td>\n",
       "      <td>left_up</td>\n",
       "      <td>yes</td>\n",
       "    </tr>\n",
       "    <tr>\n",
       "      <th>184</th>\n",
       "      <td>no-recurrence-events</td>\n",
       "      <td>50-59</td>\n",
       "      <td>ge40</td>\n",
       "      <td>30-34</td>\n",
       "      <td>9-11</td>\n",
       "      <td>?</td>\n",
       "      <td>3</td>\n",
       "      <td>left</td>\n",
       "      <td>left_low</td>\n",
       "      <td>yes</td>\n",
       "    </tr>\n",
       "    <tr>\n",
       "      <th>233</th>\n",
       "      <td>recurrence-events</td>\n",
       "      <td>70-79</td>\n",
       "      <td>ge40</td>\n",
       "      <td>15-19</td>\n",
       "      <td>9-11</td>\n",
       "      <td>?</td>\n",
       "      <td>1</td>\n",
       "      <td>left</td>\n",
       "      <td>left_low</td>\n",
       "      <td>yes</td>\n",
       "    </tr>\n",
       "    <tr>\n",
       "      <th>263</th>\n",
       "      <td>recurrence-events</td>\n",
       "      <td>50-59</td>\n",
       "      <td>lt40</td>\n",
       "      <td>20-24</td>\n",
       "      <td>0-2</td>\n",
       "      <td>?</td>\n",
       "      <td>1</td>\n",
       "      <td>left</td>\n",
       "      <td>left_up</td>\n",
       "      <td>no</td>\n",
       "    </tr>\n",
       "    <tr>\n",
       "      <th>264</th>\n",
       "      <td>recurrence-events</td>\n",
       "      <td>50-59</td>\n",
       "      <td>lt40</td>\n",
       "      <td>20-24</td>\n",
       "      <td>0-2</td>\n",
       "      <td>?</td>\n",
       "      <td>1</td>\n",
       "      <td>left</td>\n",
       "      <td>left_low</td>\n",
       "      <td>no</td>\n",
       "    </tr>\n",
       "  </tbody>\n",
       "</table>\n",
       "</div>"
      ],
      "text/plain": [
       "               Recurrence    age menopause tumor-size inv-nodes node-caps  \\\n",
       "145  no-recurrence-events  40-49   premeno      25-29       0-2         ?   \n",
       "163  no-recurrence-events  60-69      ge40      25-29       3-5         ?   \n",
       "164  no-recurrence-events  60-69      ge40      25-29       3-5         ?   \n",
       "183  no-recurrence-events  50-59      ge40      30-34      9-11         ?   \n",
       "184  no-recurrence-events  50-59      ge40      30-34      9-11         ?   \n",
       "233     recurrence-events  70-79      ge40      15-19      9-11         ?   \n",
       "263     recurrence-events  50-59      lt40      20-24       0-2         ?   \n",
       "264     recurrence-events  50-59      lt40      20-24       0-2         ?   \n",
       "\n",
       "     deg-malig breast breast-quad Irradiated  \n",
       "145          2   left   right_low        yes  \n",
       "163          1  right     left_up        yes  \n",
       "164          1  right    left_low        yes  \n",
       "183          3   left     left_up        yes  \n",
       "184          3   left    left_low        yes  \n",
       "233          1   left    left_low        yes  \n",
       "263          1   left     left_up         no  \n",
       "264          1   left    left_low         no  "
      ]
     },
     "execution_count": 130,
     "metadata": {},
     "output_type": "execute_result"
    }
   ],
   "source": [
    "data.loc[data['node-caps'] == '?']"
   ]
  },
  {
   "cell_type": "markdown",
   "id": "ef755511-c7e1-46ba-b607-f226ad2f5447",
   "metadata": {},
   "source": [
    "## Converting Data Types"
   ]
  },
  {
   "cell_type": "code",
   "execution_count": 131,
   "id": "ce2fe5f7-7e47-4166-97cf-db5556227802",
   "metadata": {},
   "outputs": [],
   "source": [
    "# converts the yes's to 1's & the no's to 0's.\n",
    "data['Irradiated'] = data['Irradiated'].map({'yes': 1, 'no': 0})\n",
    "# converts the right to 1's & the left to 0's.\n",
    "data['breast'] = data['breast'].map({'right': 1, 'left': 0})\n",
    "# Remaps the Recurrence variable to a boolean, where false indicates no recurrence & true indiactes a recurrence\n",
    "data['Recurrence'] = data['Recurrence'].map({'no-recurrence-events': False, 'recurrence-events': True})"
   ]
  },
  {
   "cell_type": "code",
   "execution_count": 132,
   "id": "9bc6aa0e-ec9a-45b0-bcd0-f683ee447f52",
   "metadata": {},
   "outputs": [
    {
     "name": "stdout",
     "output_type": "stream",
     "text": [
      "breast-quad\n",
      "left_low     110\n",
      "left_up       97\n",
      "right_up      33\n",
      "right_low     24\n",
      "central       21\n",
      "?              1\n",
      "Name: count, dtype: int64\n",
      "node-caps\n",
      "no     222\n",
      "yes     56\n",
      "?        8\n",
      "Name: count, dtype: int64\n"
     ]
    }
   ],
   "source": [
    "print(f'{data[\"breast-quad\"].value_counts()}\\n{data[\"node-caps\"].value_counts()}')"
   ]
  },
  {
   "cell_type": "code",
   "execution_count": 133,
   "id": "ab1607ce-e6a2-4bbc-8e5a-a020c7fee64a",
   "metadata": {},
   "outputs": [],
   "source": [
    "data.loc[data['breast-quad'] == '?', 'breast-quad'] = 'left_low'\n",
    "data.loc[data['node-caps'] == '?', 'node-caps'] = 'no'\n",
    "# converts the yes's to 1's & the no's to 0's.\n",
    "data['node-caps'] = data['node-caps'].map({'yes': 1, 'no': 0})"
   ]
  },
  {
   "cell_type": "markdown",
   "id": "1e9ff0ef-86c4-43f8-a672-802b5483607e",
   "metadata": {},
   "source": [
    "Changed '?' variables, or bad values, to that of the most common within that column as a way to promote valid replacement. "
   ]
  },
  {
   "cell_type": "markdown",
   "id": "604572fe-9114-4bd7-bc8a-ed5ccb73d2c1",
   "metadata": {
    "jp-MarkdownHeadingCollapsed": true
   },
   "source": [
    "### Performing One-Hot Encoding"
   ]
  },
  {
   "cell_type": "code",
   "execution_count": 134,
   "id": "2facc70d-96dd-4999-8b24-e2cf5d3d0546",
   "metadata": {},
   "outputs": [],
   "source": [
    "# Converts the three uniuqe values in the 'menopause' column to booleans \n",
    "data = pd.get_dummies(data, columns=[\"menopause\"], drop_first=True)\n",
    "# Converts each range of ages to a boolean \n",
    "data = pd.get_dummies(data, columns=[\"age\"], drop_first=True)\n",
    "# Converts each range of tumor sizes to a boolean set\n",
    "data = pd.get_dummies(data, columns=[\"tumor-size\"], drop_first=True)\n",
    "# Converts each range of nodes to a boolean set\n",
    "data = pd.get_dummies(data, columns=[\"inv-nodes\"], drop_first=True)\n",
    "# Converts each breast quadrant to a boolean set\n",
    "data = pd.get_dummies(data, columns=[\"breast-quad\"], drop_first=True)"
   ]
  },
  {
   "cell_type": "markdown",
   "id": "3b4585e2-fd09-450e-8852-87b534c66671",
   "metadata": {
    "jp-MarkdownHeadingCollapsed": true
   },
   "source": [
    "## Post-Processed Data"
   ]
  },
  {
   "cell_type": "code",
   "execution_count": 135,
   "id": "bda4bfd1-db4d-46d6-8fdb-49265d0b5150",
   "metadata": {},
   "outputs": [
    {
     "data": {
      "text/html": [
       "<div>\n",
       "<style scoped>\n",
       "    .dataframe tbody tr th:only-of-type {\n",
       "        vertical-align: middle;\n",
       "    }\n",
       "\n",
       "    .dataframe tbody tr th {\n",
       "        vertical-align: top;\n",
       "    }\n",
       "\n",
       "    .dataframe thead th {\n",
       "        text-align: right;\n",
       "    }\n",
       "</style>\n",
       "<table border=\"1\" class=\"dataframe\">\n",
       "  <thead>\n",
       "    <tr style=\"text-align: right;\">\n",
       "      <th></th>\n",
       "      <th>Recurrence</th>\n",
       "      <th>node-caps</th>\n",
       "      <th>deg-malig</th>\n",
       "      <th>breast</th>\n",
       "      <th>Irradiated</th>\n",
       "      <th>menopause_lt40</th>\n",
       "      <th>menopause_premeno</th>\n",
       "      <th>age_30-39</th>\n",
       "      <th>age_40-49</th>\n",
       "      <th>age_50-59</th>\n",
       "      <th>...</th>\n",
       "      <th>inv-nodes_12-14</th>\n",
       "      <th>inv-nodes_15-17</th>\n",
       "      <th>inv-nodes_24-26</th>\n",
       "      <th>inv-nodes_3-5</th>\n",
       "      <th>inv-nodes_6-8</th>\n",
       "      <th>inv-nodes_9-11</th>\n",
       "      <th>breast-quad_left_low</th>\n",
       "      <th>breast-quad_left_up</th>\n",
       "      <th>breast-quad_right_low</th>\n",
       "      <th>breast-quad_right_up</th>\n",
       "    </tr>\n",
       "  </thead>\n",
       "  <tbody>\n",
       "    <tr>\n",
       "      <th>0</th>\n",
       "      <td>False</td>\n",
       "      <td>0</td>\n",
       "      <td>3</td>\n",
       "      <td>0</td>\n",
       "      <td>0</td>\n",
       "      <td>False</td>\n",
       "      <td>True</td>\n",
       "      <td>True</td>\n",
       "      <td>False</td>\n",
       "      <td>False</td>\n",
       "      <td>...</td>\n",
       "      <td>False</td>\n",
       "      <td>False</td>\n",
       "      <td>False</td>\n",
       "      <td>False</td>\n",
       "      <td>False</td>\n",
       "      <td>False</td>\n",
       "      <td>True</td>\n",
       "      <td>False</td>\n",
       "      <td>False</td>\n",
       "      <td>False</td>\n",
       "    </tr>\n",
       "    <tr>\n",
       "      <th>1</th>\n",
       "      <td>False</td>\n",
       "      <td>0</td>\n",
       "      <td>2</td>\n",
       "      <td>1</td>\n",
       "      <td>0</td>\n",
       "      <td>False</td>\n",
       "      <td>True</td>\n",
       "      <td>False</td>\n",
       "      <td>True</td>\n",
       "      <td>False</td>\n",
       "      <td>...</td>\n",
       "      <td>False</td>\n",
       "      <td>False</td>\n",
       "      <td>False</td>\n",
       "      <td>False</td>\n",
       "      <td>False</td>\n",
       "      <td>False</td>\n",
       "      <td>False</td>\n",
       "      <td>False</td>\n",
       "      <td>False</td>\n",
       "      <td>True</td>\n",
       "    </tr>\n",
       "    <tr>\n",
       "      <th>2</th>\n",
       "      <td>False</td>\n",
       "      <td>0</td>\n",
       "      <td>2</td>\n",
       "      <td>0</td>\n",
       "      <td>0</td>\n",
       "      <td>False</td>\n",
       "      <td>True</td>\n",
       "      <td>False</td>\n",
       "      <td>True</td>\n",
       "      <td>False</td>\n",
       "      <td>...</td>\n",
       "      <td>False</td>\n",
       "      <td>False</td>\n",
       "      <td>False</td>\n",
       "      <td>False</td>\n",
       "      <td>False</td>\n",
       "      <td>False</td>\n",
       "      <td>True</td>\n",
       "      <td>False</td>\n",
       "      <td>False</td>\n",
       "      <td>False</td>\n",
       "    </tr>\n",
       "    <tr>\n",
       "      <th>3</th>\n",
       "      <td>False</td>\n",
       "      <td>0</td>\n",
       "      <td>2</td>\n",
       "      <td>1</td>\n",
       "      <td>0</td>\n",
       "      <td>False</td>\n",
       "      <td>False</td>\n",
       "      <td>False</td>\n",
       "      <td>False</td>\n",
       "      <td>False</td>\n",
       "      <td>...</td>\n",
       "      <td>False</td>\n",
       "      <td>False</td>\n",
       "      <td>False</td>\n",
       "      <td>False</td>\n",
       "      <td>False</td>\n",
       "      <td>False</td>\n",
       "      <td>False</td>\n",
       "      <td>True</td>\n",
       "      <td>False</td>\n",
       "      <td>False</td>\n",
       "    </tr>\n",
       "    <tr>\n",
       "      <th>4</th>\n",
       "      <td>False</td>\n",
       "      <td>0</td>\n",
       "      <td>2</td>\n",
       "      <td>1</td>\n",
       "      <td>0</td>\n",
       "      <td>False</td>\n",
       "      <td>True</td>\n",
       "      <td>False</td>\n",
       "      <td>True</td>\n",
       "      <td>False</td>\n",
       "      <td>...</td>\n",
       "      <td>False</td>\n",
       "      <td>False</td>\n",
       "      <td>False</td>\n",
       "      <td>False</td>\n",
       "      <td>False</td>\n",
       "      <td>False</td>\n",
       "      <td>False</td>\n",
       "      <td>False</td>\n",
       "      <td>True</td>\n",
       "      <td>False</td>\n",
       "    </tr>\n",
       "  </tbody>\n",
       "</table>\n",
       "<p>5 rows × 32 columns</p>\n",
       "</div>"
      ],
      "text/plain": [
       "   Recurrence  node-caps  deg-malig  breast  Irradiated  menopause_lt40  \\\n",
       "0       False          0          3       0           0           False   \n",
       "1       False          0          2       1           0           False   \n",
       "2       False          0          2       0           0           False   \n",
       "3       False          0          2       1           0           False   \n",
       "4       False          0          2       1           0           False   \n",
       "\n",
       "   menopause_premeno  age_30-39  age_40-49  age_50-59  ...  inv-nodes_12-14  \\\n",
       "0               True       True      False      False  ...            False   \n",
       "1               True      False       True      False  ...            False   \n",
       "2               True      False       True      False  ...            False   \n",
       "3              False      False      False      False  ...            False   \n",
       "4               True      False       True      False  ...            False   \n",
       "\n",
       "   inv-nodes_15-17  inv-nodes_24-26  inv-nodes_3-5  inv-nodes_6-8  \\\n",
       "0            False            False          False          False   \n",
       "1            False            False          False          False   \n",
       "2            False            False          False          False   \n",
       "3            False            False          False          False   \n",
       "4            False            False          False          False   \n",
       "\n",
       "   inv-nodes_9-11  breast-quad_left_low  breast-quad_left_up  \\\n",
       "0           False                  True                False   \n",
       "1           False                 False                False   \n",
       "2           False                  True                False   \n",
       "3           False                 False                 True   \n",
       "4           False                 False                False   \n",
       "\n",
       "   breast-quad_right_low  breast-quad_right_up  \n",
       "0                  False                 False  \n",
       "1                  False                  True  \n",
       "2                  False                 False  \n",
       "3                  False                 False  \n",
       "4                   True                 False  \n",
       "\n",
       "[5 rows x 32 columns]"
      ]
     },
     "execution_count": 135,
     "metadata": {},
     "output_type": "execute_result"
    }
   ],
   "source": [
    "data.head()"
   ]
  },
  {
   "cell_type": "code",
   "execution_count": 136,
   "id": "206326b1-726d-44c1-a650-5822bef3fbd1",
   "metadata": {},
   "outputs": [
    {
     "name": "stdout",
     "output_type": "stream",
     "text": [
      "<class 'pandas.core.frame.DataFrame'>\n",
      "RangeIndex: 286 entries, 0 to 285\n",
      "Data columns (total 32 columns):\n",
      " #   Column                 Non-Null Count  Dtype\n",
      "---  ------                 --------------  -----\n",
      " 0   Recurrence             286 non-null    bool \n",
      " 1   node-caps              286 non-null    int64\n",
      " 2   deg-malig              286 non-null    int64\n",
      " 3   breast                 286 non-null    int64\n",
      " 4   Irradiated             286 non-null    int64\n",
      " 5   menopause_lt40         286 non-null    bool \n",
      " 6   menopause_premeno      286 non-null    bool \n",
      " 7   age_30-39              286 non-null    bool \n",
      " 8   age_40-49              286 non-null    bool \n",
      " 9   age_50-59              286 non-null    bool \n",
      " 10  age_60-69              286 non-null    bool \n",
      " 11  age_70-79              286 non-null    bool \n",
      " 12  tumor-size_10-14       286 non-null    bool \n",
      " 13  tumor-size_15-19       286 non-null    bool \n",
      " 14  tumor-size_20-24       286 non-null    bool \n",
      " 15  tumor-size_25-29       286 non-null    bool \n",
      " 16  tumor-size_30-34       286 non-null    bool \n",
      " 17  tumor-size_35-39       286 non-null    bool \n",
      " 18  tumor-size_40-44       286 non-null    bool \n",
      " 19  tumor-size_45-49       286 non-null    bool \n",
      " 20  tumor-size_5-9         286 non-null    bool \n",
      " 21  tumor-size_50-54       286 non-null    bool \n",
      " 22  inv-nodes_12-14        286 non-null    bool \n",
      " 23  inv-nodes_15-17        286 non-null    bool \n",
      " 24  inv-nodes_24-26        286 non-null    bool \n",
      " 25  inv-nodes_3-5          286 non-null    bool \n",
      " 26  inv-nodes_6-8          286 non-null    bool \n",
      " 27  inv-nodes_9-11         286 non-null    bool \n",
      " 28  breast-quad_left_low   286 non-null    bool \n",
      " 29  breast-quad_left_up    286 non-null    bool \n",
      " 30  breast-quad_right_low  286 non-null    bool \n",
      " 31  breast-quad_right_up   286 non-null    bool \n",
      "dtypes: bool(28), int64(4)\n",
      "memory usage: 16.9 KB\n"
     ]
    }
   ],
   "source": [
    "data.info()"
   ]
  },
  {
   "cell_type": "code",
   "execution_count": 137,
   "id": "1dd4b67e-25e9-4bac-8cb6-fcfaa334d949",
   "metadata": {},
   "outputs": [
    {
     "name": "stdout",
     "output_type": "stream",
     "text": [
      "        node-caps   deg-malig      breast  Irradiated\n",
      "count  286.000000  286.000000  286.000000  286.000000\n",
      "mean     0.195804    2.048951    0.468531    0.237762\n",
      "std      0.397514    0.738217    0.499883    0.426459\n",
      "min      0.000000    1.000000    0.000000    0.000000\n",
      "25%      0.000000    2.000000    0.000000    0.000000\n",
      "50%      0.000000    2.000000    0.000000    0.000000\n",
      "75%      0.000000    3.000000    1.000000    0.000000\n",
      "max      1.000000    3.000000    1.000000    1.000000\n",
      "(286, 32)\n",
      "9152\n"
     ]
    }
   ],
   "source": [
    "print(f'{data.describe()}\\n{data.shape}\\n{data.size}')"
   ]
  },
  {
   "cell_type": "markdown",
   "id": "9a145254-b82e-4fb5-ab7c-d649f997dab0",
   "metadata": {
    "jp-MarkdownHeadingCollapsed": true
   },
   "source": [
    "## Data Visualization"
   ]
  },
  {
   "cell_type": "code",
   "execution_count": 138,
   "id": "93f49fb6-cef1-44ec-82c7-7ab43417b5b2",
   "metadata": {},
   "outputs": [
    {
     "data": {
      "image/png": "[encoded data removed]",
      "text/plain": [
       "<Figure size 640x480 with 1 Axes>"
      ]
     },
     "metadata": {},
     "output_type": "display_data"
    }
   ],
   "source": [
    "fig = sns.countplot(data = data, x = 'Recurrence')\n",
    "fig.set(xlabel = 'Breast Cancer Reoccurred', ylabel = 'Frequency',\n",
    "        title = 'Count of Recurrence events of breast cancer')\n",
    "plt.show()"
   ]
  },
  {
   "cell_type": "code",
   "execution_count": 139,
   "id": "29746269-9d9a-4685-9eff-b66bc680cb0d",
   "metadata": {},
   "outputs": [
    {
     "data": {
      "image/png": "[encoded data removed]",
      "text/plain": [
       "<Figure size 640x480 with 1 Axes>"
      ]
     },
     "metadata": {},
     "output_type": "display_data"
    }
   ],
   "source": [
    "fig = sns.countplot(data = data, x = 'deg-malig', hue = 'Recurrence')\n",
    "fig.set(xlabel = 'Degree of Malignancy of Breast Cancer',\n",
    "        ylabel = 'Frequency',\n",
    "        title = 'Distribution of Malignancy of Breast Cancer')\n",
    "plt.show()"
   ]
  },
  {
   "cell_type": "code",
   "execution_count": 140,
   "id": "e7ebaacb-95d6-4446-b7c1-53eb2f2e6929",
   "metadata": {},
   "outputs": [
    {
     "data": {
      "image/png": "[encoded data removed]",
      "text/plain": [
       "<Figure size 640x480 with 1 Axes>"
      ]
     },
     "metadata": {},
     "output_type": "display_data"
    }
   ],
   "source": [
    "fig = sns.countplot(data = data, x = 'Irradiated', hue = 'Recurrence')\n",
    "fig.set(xlabel = 'Treatment with Radiation', ylabel = 'Frequency',\n",
    "        title = 'Treatments for Breast cancer with Radiation')\n",
    "plt.show()"
   ]
  },
  {
   "cell_type": "markdown",
   "id": "01379574-9f44-4e3d-8259-c95a79ed271a",
   "metadata": {
    "jp-MarkdownHeadingCollapsed": true
   },
   "source": [
    "# Part Two: ML Model Development, testing & comparison"
   ]
  },
  {
   "cell_type": "markdown",
   "id": "70255b85-1c88-4b1b-8fd2-9f3f8b9b9ece",
   "metadata": {
    "jp-MarkdownHeadingCollapsed": true
   },
   "source": [
    "### Construction of Testing & Training Data"
   ]
  },
  {
   "cell_type": "code",
   "execution_count": 141,
   "id": "842be4b1-1302-4f1c-b9ef-642509408ae8",
   "metadata": {},
   "outputs": [
    {
     "name": "stdout",
     "output_type": "stream",
     "text": [
      "Training Data: (200, 31)\n",
      "Testing Data: (86, 31)\n"
     ]
    }
   ],
   "source": [
    "from sklearn.model_selection import train_test_split\n",
    "X = data.drop(['Recurrence'], axis = 1)\n",
    "Y = data['Recurrence']\n",
    "X_train,X_test,Y_train,Y_test = train_test_split(X,Y, test_size = 0.3, stratify = Y, random_state = 1)\n",
    "print(f'Training Data: {X_train.shape}\\nTesting Data: {X_test.shape}')"
   ]
  },
  {
   "cell_type": "markdown",
   "id": "1a487d6d-fca7-4c39-96cf-68daf48d9c79",
   "metadata": {
    "jp-MarkdownHeadingCollapsed": true
   },
   "source": [
    "### Logistic Regression Model"
   ]
  },
  {
   "cell_type": "code",
   "execution_count": 142,
   "id": "b8e1e72f-e854-426a-95a0-5c858434cb82",
   "metadata": {},
   "outputs": [],
   "source": [
    "from sklearn.metrics import accuracy_score\n",
    "from sklearn.linear_model import SGDClassifier\n",
    "clf = SGDClassifier(loss = 'perceptron', alpha = 0.05)\n",
    "clf.fit(X_train,Y_train)\n",
    "accuracy_test = accuracy_score(Y_test, clf.predict(X_test))\n",
    "accuracy_train = accuracy_score(Y_train, clf.predict(X_train))"
   ]
  },
  {
   "cell_type": "code",
   "execution_count": 143,
   "id": "3c97a866-22f6-4d88-8290-aebab1f5e0f6",
   "metadata": {},
   "outputs": [
    {
     "name": "stdout",
     "output_type": "stream",
     "text": [
      "Train accuracy: 0.725; \n",
      "Test accuracy: 0.6046511627906976\n"
     ]
    },
    {
     "data": {
      "image/png": "[encoded data removed]",
      "text/plain": [
       "<Figure size 640x480 with 2 Axes>"
      ]
     },
     "metadata": {},
     "output_type": "display_data"
    }
   ],
   "source": [
    "from sklearn.metrics import ConfusionMatrixDisplay\n",
    "cm_display = ConfusionMatrixDisplay.from_estimator(clf, X_test, Y_test,\n",
    "                                               cmap=plt.cm.Blues,normalize=None)\n",
    "# Check the accuracy on the test data\n",
    "accuracy_test=accuracy_score(Y_test, clf.predict(X_test))\n",
    "# Check accuracy on the training data\n",
    "accuracy_train=accuracy_score(Y_train, clf.predict(X_train))\n",
    "print(f\"Train accuracy: {accuracy_train}; \\nTest accuracy: {accuracy_test}\")"
   ]
  },
  {
   "cell_type": "code",
   "execution_count": 144,
   "id": "77e600db-43b6-4faf-85cf-dc17eeacf25e",
   "metadata": {},
   "outputs": [
    {
     "name": "stdout",
     "output_type": "stream",
     "text": [
      "Performance on TEST\n",
      "*******************\n",
      "              precision    recall  f1-score   support\n",
      "\n",
      "       False       0.77      0.62      0.69        60\n",
      "        True       0.39      0.58      0.47        26\n",
      "\n",
      "    accuracy                           0.60        86\n",
      "   macro avg       0.58      0.60      0.58        86\n",
      "weighted avg       0.66      0.60      0.62        86\n",
      "\n",
      "Performance on TRAIN\n",
      "********************\n",
      "              precision    recall  f1-score   support\n",
      "\n",
      "       False       0.89      0.70      0.78       141\n",
      "        True       0.52      0.80      0.63        59\n",
      "\n",
      "    accuracy                           0.73       200\n",
      "   macro avg       0.71      0.75      0.71       200\n",
      "weighted avg       0.78      0.72      0.74       200\n",
      "\n"
     ]
    }
   ],
   "source": [
    "print(f\"Performance on TEST\\n*******************\\n{classification_report(Y_test, clf.predict(X_test))}\")\n",
    "print(f\"Performance on TRAIN\\n********************\\n{classification_report(Y_train, clf.predict(X_train))}\")"
   ]
  },
  {
   "cell_type": "markdown",
   "id": "8d67d712-2332-4ccf-b342-a3d3d5e2c5ac",
   "metadata": {
    "jp-MarkdownHeadingCollapsed": true
   },
   "source": [
    "### KNN Model"
   ]
  },
  {
   "cell_type": "code",
   "execution_count": 145,
   "id": "614053da-c1e9-414b-ad58-daf49de48dbf",
   "metadata": {},
   "outputs": [
    {
     "data": {
      "text/html": [
       "<style>#sk-container-id-5 {color: black;}#sk-container-id-5 pre{padding: 0;}#sk-container-id-5 div.sk-toggleable {background-color: white;}#sk-container-id-5 label.sk-toggleable__label {cursor: pointer;display: block;width: 100%;margin-bottom: 0;padding: 0.3em;box-sizing: border-box;text-align: center;}#sk-container-id-5 label.sk-toggleable__label-arrow:before {content: \"▸\";float: left;margin-right: 0.25em;color: #696969;}#sk-container-id-5 label.sk-toggleable__label-arrow:hover:before {color: black;}#sk-container-id-5 div.sk-estimator:hover label.sk-toggleable__label-arrow:before {color: black;}#sk-container-id-5 div.sk-toggleable__content {max-height: 0;max-width: 0;overflow: hidden;text-align: left;background-color: #f0f8ff;}#sk-container-id-5 div.sk-toggleable__content pre {margin: 0.2em;color: black;border-radius: 0.25em;background-color: #f0f8ff;}#sk-container-id-5 input.sk-toggleable__control:checked~div.sk-toggleable__content {max-height: 200px;max-width: 100%;overflow: auto;}#sk-container-id-5 input.sk-toggleable__control:checked~label.sk-toggleable__label-arrow:before {content: \"▾\";}#sk-container-id-5 div.sk-estimator input.sk-toggleable__control:checked~label.sk-toggleable__label {background-color: #d4ebff;}#sk-container-id-5 div.sk-label input.sk-toggleable__control:checked~label.sk-toggleable__label {background-color: #d4ebff;}#sk-container-id-5 input.sk-hidden--visually {border: 0;clip: rect(1px 1px 1px 1px);clip: rect(1px, 1px, 1px, 1px);height: 1px;margin: -1px;overflow: hidden;padding: 0;position: absolute;width: 1px;}#sk-container-id-5 div.sk-estimator {font-family: monospace;background-color: #f0f8ff;border: 1px dotted black;border-radius: 0.25em;box-sizing: border-box;margin-bottom: 0.5em;}#sk-container-id-5 div.sk-estimator:hover {background-color: #d4ebff;}#sk-container-id-5 div.sk-parallel-item::after {content: \"\";width: 100%;border-bottom: 1px solid gray;flex-grow: 1;}#sk-container-id-5 div.sk-label:hover label.sk-toggleable__label {background-color: #d4ebff;}#sk-container-id-5 div.sk-serial::before {content: \"\";position: absolute;border-left: 1px solid gray;box-sizing: border-box;top: 0;bottom: 0;left: 50%;z-index: 0;}#sk-container-id-5 div.sk-serial {display: flex;flex-direction: column;align-items: center;background-color: white;padding-right: 0.2em;padding-left: 0.2em;position: relative;}#sk-container-id-5 div.sk-item {position: relative;z-index: 1;}#sk-container-id-5 div.sk-parallel {display: flex;align-items: stretch;justify-content: center;background-color: white;position: relative;}#sk-container-id-5 div.sk-item::before, #sk-container-id-5 div.sk-parallel-item::before {content: \"\";position: absolute;border-left: 1px solid gray;box-sizing: border-box;top: 0;bottom: 0;left: 50%;z-index: -1;}#sk-container-id-5 div.sk-parallel-item {display: flex;flex-direction: column;z-index: 1;position: relative;background-color: white;}#sk-container-id-5 div.sk-parallel-item:first-child::after {align-self: flex-end;width: 50%;}#sk-container-id-5 div.sk-parallel-item:last-child::after {align-self: flex-start;width: 50%;}#sk-container-id-5 div.sk-parallel-item:only-child::after {width: 0;}#sk-container-id-5 div.sk-dashed-wrapped {border: 1px dashed gray;margin: 0 0.4em 0.5em 0.4em;box-sizing: border-box;padding-bottom: 0.4em;background-color: white;}#sk-container-id-5 div.sk-label label {font-family: monospace;font-weight: bold;display: inline-block;line-height: 1.2em;}#sk-container-id-5 div.sk-label-container {text-align: center;}#sk-container-id-5 div.sk-container {/* jupyter's `normalize.less` sets `[hidden] { display: none; }` but bootstrap.min.css set `[hidden] { display: none !important; }` so we also need the `!important` here to be able to override the default hidden behavior on the sphinx rendered scikit-learn.org. See: https://github.com/scikit-learn/scikit-learn/issues/21755 */display: inline-block !important;position: relative;}#sk-container-id-5 div.sk-text-repr-fallback {display: none;}</style><div id=\"sk-container-id-5\" class=\"sk-top-container\"><div class=\"sk-text-repr-fallback\"><pre>KNeighborsClassifier(n_neighbors=3)</pre><b>In a Jupyter environment, please rerun this cell to show the HTML representation or trust the notebook. <br />On GitHub, the HTML representation is unable to render, please try loading this page with nbviewer.org.</b></div><div class=\"sk-container\" hidden><div class=\"sk-item\"><div class=\"sk-estimator sk-toggleable\"><input class=\"sk-toggleable__control sk-hidden--visually\" id=\"sk-estimator-id-5\" type=\"checkbox\" checked><label for=\"sk-estimator-id-5\" class=\"sk-toggleable__label sk-toggleable__label-arrow\">KNeighborsClassifier</label><div class=\"sk-toggleable__content\"><pre>KNeighborsClassifier(n_neighbors=3)</pre></div></div></div></div></div>"
      ],
      "text/plain": [
       "KNeighborsClassifier(n_neighbors=3)"
      ]
     },
     "execution_count": 145,
     "metadata": {},
     "output_type": "execute_result"
    }
   ],
   "source": [
    "from sklearn.neighbors import KNeighborsClassifier\n",
    "# instantiate the model\n",
    "knn = KNeighborsClassifier(n_neighbors=3)\n",
    "\n",
    "# fit the model to the training set\n",
    "knn.fit(X_train, Y_train)"
   ]
  },
  {
   "cell_type": "code",
   "execution_count": 146,
   "id": "3757bba4-c8bd-4873-9eaa-09f182134c61",
   "metadata": {},
   "outputs": [
    {
     "name": "stdout",
     "output_type": "stream",
     "text": [
      "Accuracy of knn on test data is : 0.69\n",
      "Accuracy of knn on train data is : 0.86\n",
      "Recall of KNeighborsClassifier(n_neighbors=3) on test data is : 0.38461538461538464\n",
      "Recall of KNeighborsClassifier(n_neighbors=3) on train data is : 0.5932203389830508\n"
     ]
    }
   ],
   "source": [
    "from sklearn.metrics import recall_score, precision_score, f1_score\n",
    "accuracy_test=accuracy_score(Y_test, knn.predict(X_test))\n",
    "print('Accuracy of knn on test data is : {:.2}'.format(accuracy_test))\n",
    "\n",
    "# Check accuracy on the training data\n",
    "accuracy_train=accuracy_score(Y_train, knn.predict(X_train))\n",
    "print('Accuracy of knn on train data is : {:.2}'.format(accuracy_train))\n",
    "\n",
    "# on test data\n",
    "recall_test=recall_score(Y_test, knn.predict(X_test))\n",
    "print(f'Recall of {knn} on test data is : {recall_test}')\n",
    "# on training data\n",
    "recall_train=recall_score(Y_train, knn.predict(X_train))\n",
    "print(f'Recall of {knn} on train data is : {recall_train}')"
   ]
  },
  {
   "cell_type": "markdown",
   "id": "5b86627c-2464-4a5b-bee1-3bbecb858947",
   "metadata": {},
   "source": [
    "#### Improving KNN model"
   ]
  },
  {
   "cell_type": "code",
   "execution_count": 147,
   "id": "b158878f-c269-4a71-a7cf-81cacdfa7822",
   "metadata": {},
   "outputs": [],
   "source": [
    "from sklearn.model_selection import GridSearchCV\n",
    "knn_search_recall = KNeighborsClassifier()\n",
    "# Optimizing Hyperparamter\n",
    "param_grid = {\"n_neighbors\": np.arange(1, 100)}\n",
    "# cv parameter stands for cross-validation generator\n",
    "knn_gscv = GridSearchCV(knn_search_recall, param_grid, cv=5)\n",
    "knn_gscv.fit(X_train,Y_train)\n",
    "best_knn = knn_gscv.best_estimator_"
   ]
  },
  {
   "cell_type": "code",
   "execution_count": 148,
   "id": "30c5feac-80da-4172-8ddd-99a981347336",
   "metadata": {},
   "outputs": [],
   "source": [
    "knn_search_recall = KNeighborsClassifier()\n",
    "# specify the recall function to use when scoring\n",
    "knn_gscv2 = GridSearchCV(knn_search_recall, param_grid, cv=5, scoring=\"recall\")\n",
    "\n",
    "# rest of the code is same as above ---\n",
    "# fit the set of models\n",
    "knn_gscv2.fit(X_train, Y_train)\n",
    "\n",
    "# hyperparameter values for the best model\n",
    "knn_gscv2.best_params_\n",
    "best_recall_knn = knn_gscv2.best_estimator_"
   ]
  },
  {
   "cell_type": "code",
   "execution_count": 149,
   "id": "4ca56ffe-431d-4625-aeb7-771e16291d0a",
   "metadata": {},
   "outputs": [
    {
     "name": "stdout",
     "output_type": "stream",
     "text": [
      "Accuracy of KNeighborsClassifier(n_neighbors=3) on test data is : 0.686046511627907\n",
      "Recall of KNeighborsClassifier(n_neighbors=3) on test data is : 0.38461538461538464\n",
      "\n",
      "Accuracy of KNeighborsClassifier(n_neighbors=3) on train data is : 0.86\n",
      "Recall of KNeighborsClassifier(n_neighbors=3) on train data is : 0.5932203389830508\n",
      "\n",
      "Accuracy of KNeighborsClassifier(n_neighbors=14) on test data is : 0.6976744186046512\n",
      "Recall of KNeighborsClassifier(n_neighbors=14) on test data is : 0.038461538461538464\n",
      "\n",
      "Accuracy of KNeighborsClassifier(n_neighbors=14) on train data is : 0.86\n",
      "Recall of KNeighborsClassifier(n_neighbors=14) on train data is : 0.15254237288135594\n",
      "\n",
      "Accuracy of KNeighborsClassifier(n_neighbors=1) on test data is : 0.5813953488372093\n",
      "Recall of KNeighborsClassifier(n_neighbors=1) on test data is : 0.23076923076923078\n",
      "\n",
      "Accuracy of KNeighborsClassifier(n_neighbors=1) on train data is : 0.86\n",
      "Recall of KNeighborsClassifier(n_neighbors=1) on train data is : 0.9152542372881356\n",
      "\n"
     ]
    }
   ],
   "source": [
    "models = [knn, best_knn, best_recall_knn]\n",
    "for m in models:\n",
    "    # Recall\n",
    "    # on test data\n",
    "    recall_test=recall_score(Y_test, m.predict(X_test))\n",
    "    accuracy_test=accuracy_score(Y_test, m.predict(X_test))\n",
    "    print(f'Accuracy of {m} on test data is : {accuracy_test}')\n",
    "    print(f'Recall of {m} on test data is : {recall_test}\\n')\n",
    "    # on training data\n",
    "    recall_train=recall_score(Y_train, m.predict(X_train))\n",
    "    accuracy_test=accuracy_score(Y_train, m.predict(X_train))\n",
    "    print(f'Accuracy of {m} on train data is : {accuracy_train}')\n",
    "    print(f'Recall of {m} on train data is : {recall_train}\\n')"
   ]
  },
  {
   "cell_type": "code",
   "execution_count": 150,
   "id": "6f428e0d-95f5-472b-9530-4bed0a2f0c36",
   "metadata": {},
   "outputs": [
    {
     "data": {
      "image/png": "[encoded data removed]",
      "text/plain": [
       "<Figure size 640x480 with 2 Axes>"
      ]
     },
     "metadata": {},
     "output_type": "display_data"
    }
   ],
   "source": [
    "cm_display = ConfusionMatrixDisplay.from_estimator(knn, X_test, Y_test,\n",
    "                                               cmap=plt.cm.Blues,normalize=None)"
   ]
  },
  {
   "cell_type": "code",
   "execution_count": 151,
   "id": "ffe909c3-c81c-49de-93e8-9e84e3d13325",
   "metadata": {},
   "outputs": [
    {
     "name": "stdout",
     "output_type": "stream",
     "text": [
      "Performance on TEST\n",
      "*******************\n",
      "              precision    recall  f1-score   support\n",
      "\n",
      "       False       0.75      0.82      0.78        60\n",
      "        True       0.48      0.38      0.43        26\n",
      "\n",
      "    accuracy                           0.69        86\n",
      "   macro avg       0.62      0.60      0.60        86\n",
      "weighted avg       0.67      0.69      0.68        86\n",
      "\n",
      "Performance on TRAIN\n",
      "********************\n",
      "              precision    recall  f1-score   support\n",
      "\n",
      "       False       0.85      0.97      0.91       141\n",
      "        True       0.90      0.59      0.71        59\n",
      "\n",
      "    accuracy                           0.86       200\n",
      "   macro avg       0.87      0.78      0.81       200\n",
      "weighted avg       0.86      0.86      0.85       200\n",
      "\n"
     ]
    }
   ],
   "source": [
    "print(f\"Performance on TEST\\n*******************\\n{classification_report(Y_test, knn.predict(X_test))}\")\n",
    "print(f\"Performance on TRAIN\\n********************\\n{classification_report(Y_train, knn.predict(X_train))}\")"
   ]
  },
  {
   "cell_type": "code",
   "execution_count": 152,
   "id": "1116f3f5-a450-43cc-bb81-0618542941e1",
   "metadata": {},
   "outputs": [
    {
     "data": {
      "image/png": "[encoded data removed]",
      "text/plain": [
       "<Figure size 640x480 with 2 Axes>"
      ]
     },
     "metadata": {},
     "output_type": "display_data"
    }
   ],
   "source": [
    "cm_display = ConfusionMatrixDisplay.from_estimator(best_knn, X_test, Y_test,\n",
    "                                               cmap=plt.cm.Blues,normalize=None)"
   ]
  },
  {
   "cell_type": "code",
   "execution_count": 153,
   "id": "a04a7d3a-a7b8-47d9-8b6a-a78f5ca260dd",
   "metadata": {},
   "outputs": [
    {
     "name": "stdout",
     "output_type": "stream",
     "text": [
      "Performance on TEST\n",
      "*******************\n",
      "              precision    recall  f1-score   support\n",
      "\n",
      "       False       0.70      0.98      0.82        60\n",
      "        True       0.50      0.04      0.07        26\n",
      "\n",
      "    accuracy                           0.70        86\n",
      "   macro avg       0.60      0.51      0.45        86\n",
      "weighted avg       0.64      0.70      0.59        86\n",
      "\n",
      "Performance on TRAIN\n",
      "********************\n",
      "              precision    recall  f1-score   support\n",
      "\n",
      "       False       0.74      0.99      0.85       141\n",
      "        True       0.90      0.15      0.26        59\n",
      "\n",
      "    accuracy                           0.74       200\n",
      "   macro avg       0.82      0.57      0.55       200\n",
      "weighted avg       0.78      0.74      0.67       200\n",
      "\n"
     ]
    }
   ],
   "source": [
    "print(f\"Performance on TEST\\n*******************\\n{classification_report(Y_test, best_knn.predict(X_test))}\")\n",
    "print(f\"Performance on TRAIN\\n********************\\n{classification_report(Y_train, best_knn.predict(X_train))}\")"
   ]
  },
  {
   "cell_type": "code",
   "execution_count": 154,
   "id": "91989577-ed12-4124-ab6b-d58add44373a",
   "metadata": {},
   "outputs": [
    {
     "data": {
      "image/png": "[encoded data removed]",
      "text/plain": [
       "<Figure size 640x480 with 2 Axes>"
      ]
     },
     "metadata": {},
     "output_type": "display_data"
    }
   ],
   "source": [
    "cm_display = ConfusionMatrixDisplay.from_estimator(best_recall_knn, X_test, Y_test,\n",
    "                                               cmap=plt.cm.Blues,normalize=None)"
   ]
  },
  {
   "cell_type": "code",
   "execution_count": 155,
   "id": "b701923f-8350-4787-955f-9e923fb0370c",
   "metadata": {},
   "outputs": [
    {
     "name": "stdout",
     "output_type": "stream",
     "text": [
      "Performance on TEST\n",
      "*******************\n",
      "              precision    recall  f1-score   support\n",
      "\n",
      "       False       0.69      0.73      0.71        60\n",
      "        True       0.27      0.23      0.25        26\n",
      "\n",
      "    accuracy                           0.58        86\n",
      "   macro avg       0.48      0.48      0.48        86\n",
      "weighted avg       0.56      0.58      0.57        86\n",
      "\n",
      "Performance on TRAIN\n",
      "********************\n",
      "              precision    recall  f1-score   support\n",
      "\n",
      "       False       0.96      1.00      0.98       141\n",
      "        True       1.00      0.90      0.95        59\n",
      "\n",
      "    accuracy                           0.97       200\n",
      "   macro avg       0.98      0.95      0.96       200\n",
      "weighted avg       0.97      0.97      0.97       200\n",
      "\n"
     ]
    }
   ],
   "source": [
    "print(f\"Performance on TEST\\n*******************\\n{classification_report(Y_test, best_recall_knn.predict(X_test))}\")\n",
    "print(f\"Performance on TRAIN\\n********************\\n{classification_report(Y_train, tree_model.predict(X_train))}\")"
   ]
  },
  {
   "cell_type": "markdown",
   "id": "84816cdb-a4a7-47d2-ab01-ce7ba019527c",
   "metadata": {
    "jp-MarkdownHeadingCollapsed": true
   },
   "source": [
    "### Decision Trees"
   ]
  },
  {
   "cell_type": "code",
   "execution_count": 156,
   "id": "d9ef790a-9178-49e7-91d5-e511e9bd460f",
   "metadata": {},
   "outputs": [
    {
     "data": {
      "image/png": "[encoded data removed]",
      "text/plain": [
       "<Figure size 640x480 with 2 Axes>"
      ]
     },
     "metadata": {},
     "output_type": "display_data"
    }
   ],
   "source": [
    "from sklearn.tree import DecisionTreeClassifier\n",
    "tree_model = DecisionTreeClassifier(random_state=1).fit(X_train, Y_train)\n",
    "cm_display = ConfusionMatrixDisplay.from_estimator(tree_model, X_test, Y_test,\n",
    "                                               cmap=plt.cm.Blues,normalize=None)"
   ]
  },
  {
   "cell_type": "code",
   "execution_count": 166,
   "id": "7f4df4c4-8ad2-49a7-bb2d-5f3b05edf1c5",
   "metadata": {},
   "outputs": [
    {
     "data": {
      "image/png": "[encoded data removed]",
      "text/plain": [
       "<Figure size 640x480 with 1 Axes>"
      ]
     },
     "metadata": {},
     "output_type": "display_data"
    }
   ],
   "source": [
    "from sklearn import tree\n",
    "tree.plot_tree(tree_model)\n",
    "plt.show()"
   ]
  },
  {
   "cell_type": "code",
   "execution_count": 158,
   "id": "16dd3678-f160-4177-acd8-607177f8fbd5",
   "metadata": {},
   "outputs": [
    {
     "name": "stdout",
     "output_type": "stream",
     "text": [
      "Performance on TEST\n",
      "*******************\n",
      "              precision    recall  f1-score   support\n",
      "\n",
      "       False       0.72      0.77      0.74        60\n",
      "        True       0.36      0.31      0.33        26\n",
      "\n",
      "    accuracy                           0.63        86\n",
      "   macro avg       0.54      0.54      0.54        86\n",
      "weighted avg       0.61      0.63      0.62        86\n",
      "\n",
      "Performance on TRAIN\n",
      "********************\n",
      "              precision    recall  f1-score   support\n",
      "\n",
      "       False       0.96      1.00      0.98       141\n",
      "        True       1.00      0.90      0.95        59\n",
      "\n",
      "    accuracy                           0.97       200\n",
      "   macro avg       0.98      0.95      0.96       200\n",
      "weighted avg       0.97      0.97      0.97       200\n",
      "\n"
     ]
    }
   ],
   "source": [
    "print(f\"Performance on TEST\\n*******************\\n{classification_report(Y_test, tree_model.predict(X_test))}\")\n",
    "print(f\"Performance on TRAIN\\n********************\\n{classification_report(Y_train, tree_model.predict(X_train))}\")"
   ]
  },
  {
   "cell_type": "code",
   "execution_count": null,
   "id": "9ed3cd91-d862-4ce9-b93e-c13427654e52",
   "metadata": {},
   "outputs": [],
   "source": []
  }
 ],
 "metadata": {
  "kernelspec": {
   "display_name": "Python 3 (ipykernel)",
   "language": "python",
   "name": "python3"
  },
  "language_info": {
   "codemirror_mode": {
    "name": "ipython",
    "version": 3
   },
   "file_extension": ".py",
   "mimetype": "text/x-python",
   "name": "python",
   "nbconvert_exporter": "python",
   "pygments_lexer": "ipython3",
   "version": "3.11.1"
  }
 },
 "nbformat": 4,
 "nbformat_minor": 5
}
