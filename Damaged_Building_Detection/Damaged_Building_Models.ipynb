{
 "cells": [
  {
   "cell_type": "markdown",
   "id": "90398a47-b79e-4b07-b24b-b4b3817ccee2",
   "metadata": {},
   "source": [
    "# Machine Learning Model Architecture"
   ]
  },
  {
   "cell_type": "markdown",
   "id": "7f95bdd3-3fb2-4d8a-894c-846359736613",
   "metadata": {},
   "source": [
    "## Construction of Test/Train datasets"
   ]
  },
  {
   "cell_type": "code",
   "execution_count": 9,
   "id": "aba25ea3-b043-4fe3-890f-333d91190545",
   "metadata": {},
   "outputs": [],
   "source": [
    "import pandas as pd\n",
    "# Let's make sure these directories are clean before we start\n",
    "import shutil\n",
    "try:\n",
    "    shutil.rmtree(\"../data/project3/data_all_modified/data_split/train\")\n",
    "    shutil.rmtree(\"../data/project3/data_all_modified/data_split/test\")\n",
    "except:\n",
    "    pass"
   ]
  },
  {
   "cell_type": "code",
   "execution_count": 10,
   "id": "3f0a43b1-a99f-46d1-a3a9-4f0a5ddad469",
   "metadata": {},
   "outputs": [],
   "source": [
    "# We have two classes which contains all the data: Damage & No_damage\n",
    "# Let's create directories for each class in the train and test directories.\n",
    "import os\n",
    "# ensure directories exist\n",
    "from pathlib import Path\n",
    "\n",
    "Path(\"../data/project3/data_all_modified/data_split/test/damage\").mkdir(parents=True, exist_ok=True)\n",
    "Path(\"../data/project3/data_all_modified/data_split/test/no_damage\").mkdir(parents=True, exist_ok=True)\n",
    "\n",
    "Path(\"../data/project3/data_all_modified/data_split/train/damage\").mkdir(parents=True, exist_ok=True)\n",
    "Path(\"../data/project3/data_all_modified/data_split/train/no_damage\").mkdir(parents=True, exist_ok=True)"
   ]
  },
  {
   "cell_type": "code",
   "execution_count": 11,
   "id": "b29497d8-3b2f-409d-b9c7-58b409a1797f",
   "metadata": {},
   "outputs": [],
   "source": [
    "# we need paths of images for individual classes so we can copy them in the new directories that we created above\n",
    "all_damage_file_paths = os.listdir('../data/project3/data_all_modified/damage')\n",
    "all_no_damage_file_paths = os.listdir('../data/project3/data_all_modified/no_damage')"
   ]
  },
  {
   "cell_type": "code",
   "execution_count": 12,
   "id": "8175434d-c0e7-489c-927e-490c0fd9bbf2",
   "metadata": {},
   "outputs": [
    {
     "name": "stdout",
     "output_type": "stream",
     "text": [
      "train Damage image count:  11336\n",
      "test Damage image count:  2834\n",
      "len of overlap:  0\n",
      "train No Damage image count:  5721\n",
      "test No Damage image count:  1431\n",
      "len of overlap:  0\n"
     ]
    }
   ],
   "source": [
    "import random\n",
    "\n",
    "train_damage_paths = random.sample(all_damage_file_paths, int(len(all_damage_file_paths)*0.8))\n",
    "print(\"train Damage image count: \", len(train_damage_paths))\n",
    "test_damage_paths = [ p for p in all_damage_file_paths if p not in train_damage_paths]\n",
    "print(\"test Damage image count: \", len(test_damage_paths))\n",
    "# ensure no overlap:\n",
    "overlap = [p for p in train_damage_paths if p in test_damage_paths]\n",
    "print(\"len of overlap: \", len(overlap))\n",
    "\n",
    "train_no_damage_paths = random.sample(all_no_damage_file_paths, int(len(all_no_damage_file_paths)*0.8))\n",
    "print(\"train No Damage image count: \", len(train_no_damage_paths))\n",
    "test_no_damage_paths = [ p for p in all_no_damage_file_paths if p not in train_no_damage_paths]\n",
    "print(\"test No Damage image count: \", len(test_no_damage_paths))\n",
    "# ensure no overlap:\n",
    "overlap = [p for p in train_no_damage_paths if p in test_no_damage_paths]\n",
    "print(\"len of overlap: \", len(overlap))\n"
   ]
  },
  {
   "cell_type": "code",
   "execution_count": 13,
   "id": "cb8e4c0c-54d3-4763-9b43-50ab620a9001",
   "metadata": {},
   "outputs": [
    {
     "name": "stdout",
     "output_type": "stream",
     "text": [
      "Files in train/damage:  11336\n",
      "Files in train/no_damage:  2834\n",
      "Files in test/damage:  5721\n",
      "Files in test/no_damage:  1431\n"
     ]
    }
   ],
   "source": [
    "#ensure to copy the images to the directories\n",
    "import shutil\n",
    "for p in train_damage_paths:\n",
    "    shutil.copyfile(os.path.join('../data/project3/data_all_modified/damage', p), os.path.join(\"../data/project3/data_all_modified/data_split/train/damage\", p) )\n",
    "\n",
    "for p in test_damage_paths:\n",
    "    shutil.copyfile(os.path.join('../data/project3/data_all_modified/damage', p), os.path.join(\"../data/project3/data_all_modified/data_split/test/damage\", p) )\n",
    "\n",
    "for p in train_no_damage_paths:\n",
    "    shutil.copyfile(os.path.join('../data/project3/data_all_modified/no_damage', p), os.path.join(\"../data/project3/data_all_modified/data_split/train/no_damage\", p) )\n",
    "\n",
    "for p in test_no_damage_paths:\n",
    "    shutil.copyfile(os.path.join('../data/project3/data_all_modified/no_damage', p), os.path.join(\"../data/project3/data_all_modified/data_split/test/no_damage\", p) )\n",
    "\n",
    "# check counts:\n",
    "print(\"Files in train/damage: \", len(os.listdir(\"../data/project3/data_all_modified/data_split/train/damage\")))\n",
    "print(\"Files in train/no_damage: \", len(os.listdir(\"../data/project3/data_all_modified/data_split/test/damage\")))\n",
    "\n",
    "print(\"Files in test/damage: \", len(os.listdir(\"../data/project3/data_all_modified/data_split/train/no_damage\")))\n",
    "print(\"Files in test/no_damage: \", len(os.listdir(\"../data/project3/data_all_modified/data_split/test/no_damage\")))"
   ]
  },
  {
   "cell_type": "markdown",
   "id": "020df377-ec38-40f6-b202-1ec305412c57",
   "metadata": {},
   "source": [
    "## Data Pre-Processing"
   ]
  },
  {
   "cell_type": "code",
   "execution_count": 14,
   "id": "2f11d8a3-9af2-4183-a751-6e4d9e4f35ef",
   "metadata": {},
   "outputs": [],
   "source": [
    "# Using PIL to get image dimensions\n",
    "from PIL import Image\n",
    "\n",
    "def get_image_dimensions(image_path: str):\n",
    "    '''\n",
    "    Gets image dimensions through the input of a directory\n",
    "\n",
    "    Input: Takes string input of the directory path to an image\n",
    "\n",
    "    Output: Returns image dimensions of height & width pixels\n",
    "    '''\n",
    "    try:\n",
    "        with Image.open(image_path) as img:\n",
    "            width, height = img.size\n",
    "            return width, height\n",
    "    except Exception as e:\n",
    "        print(f\"Error processing image {image_path}: {e}\")\n",
    "        return None\n",
    "\n",
    "def check_images_same_size(directory: str):\n",
    "    '''\n",
    "    Ensures that all images within a directory are the same size\n",
    "\n",
    "    Input: Takes a string input of the desired directory to be check\n",
    "\n",
    "    Output: Prints a statement stating images are the same size & their dimensions,\n",
    "            or prints that the images have different sizes, or that there werent any valid images in\n",
    "            the directory.\n",
    "    '''\n",
    "    dimensions_set = set()  # To store unique dimensions of images\n",
    "    for filename in os.listdir(directory):\n",
    "        if filename.endswith(\".jpeg\"):\n",
    "            image_path = os.path.join(directory, filename)\n",
    "            dimensions = get_image_dimensions(image_path)\n",
    "            if dimensions:\n",
    "                dimensions_set.add(dimensions)\n",
    "\n",
    "    if len(dimensions_set) == 1:\n",
    "        dimensions = dimensions_set.pop()\n",
    "        print(\"All images are the same size.\")\n",
    "        print(f\"Image dimensions: {dimensions[0]}x{dimensions[1]} pixels\")\n",
    "    elif len(dimensions_set) > 1:\n",
    "        print(\"Images have different sizes.\")\n",
    "    else:\n",
    "        print(\"No valid images found in the directory.\")"
   ]
  },
  {
   "cell_type": "code",
   "execution_count": 15,
   "id": "8e41c0d6-40ad-49b9-904b-bfbcc8ac4101",
   "metadata": {},
   "outputs": [
    {
     "name": "stdout",
     "output_type": "stream",
     "text": [
      "All images are the same size.\n",
      "Image dimensions: 128x128 pixels\n",
      "All images are the same size.\n",
      "Image dimensions: 128x128 pixels\n"
     ]
    }
   ],
   "source": [
    "train_data_dmg = '../data/project3/data_all_modified/data_split/train/damage'\n",
    "train_data_no_dmg = '../data/project3/data_all_modified/data_split/train/no_damage'\n",
    "check_images_same_size(train_data_dmg)\n",
    "check_images_same_size(train_data_no_dmg)"
   ]
  },
  {
   "cell_type": "code",
   "execution_count": 16,
   "id": "00d20515-2474-4ff5-8f16-d97e5976d887",
   "metadata": {},
   "outputs": [
    {
     "name": "stdout",
     "output_type": "stream",
     "text": [
      "Found 17057 files belonging to 2 classes.\n",
      "Using 13646 files for training.\n",
      "Using 3411 files for validation.\n"
     ]
    }
   ],
   "source": [
    "import tensorflow as tf\n",
    "import tensorflow_datasets as tfds\n",
    "from tensorflow.keras.layers.experimental.preprocessing import Rescaling\n",
    "# Now that we know the image dimensions\n",
    "train_data_dir = '../data/project3/data_all_modified/data_split/train'\n",
    "# Number of images we want to process at once\n",
    "batch_size = 64\n",
    "\n",
    "# Target image size (128 px by 128 px)\n",
    "img_height = 128\n",
    "img_width = 128\n",
    "train_ds, val_ds = tf.keras.utils.image_dataset_from_directory(\n",
    "train_data_dir,\n",
    "validation_split=0.2,\n",
    "subset=\"both\",\n",
    "seed=123,\n",
    "image_size=(img_height, img_width),\n",
    "batch_size=batch_size\n",
    ")\n",
    "rescale = Rescaling(scale=1.0/255)\n",
    "train_rescale_ds = train_ds.map(lambda image,label:(rescale(image),label))\n",
    "val_rescale_ds = val_ds.map(lambda image,label:(rescale(image),label))"
   ]
  },
  {
   "cell_type": "code",
   "execution_count": 17,
   "id": "1de8e28e-3d39-4464-bb90-c8005ff2a815",
   "metadata": {},
   "outputs": [
    {
     "name": "stdout",
     "output_type": "stream",
     "text": [
      "Found 17057 files belonging to 2 classes.\n"
     ]
    }
   ],
   "source": [
    "test_data_dir = '../data/project3/data_all_modified/data_split/train'\n",
    "\n",
    "batch_size = 2\n",
    "\n",
    "img_height = 128\n",
    "img_width = 128\n",
    "\n",
    "# note that subset=\"training\", \"validation\", \"both\", and dictates what is returned\n",
    "test_ds = tf.keras.utils.image_dataset_from_directory(\n",
    "test_data_dir,\n",
    "seed=123,\n",
    "image_size=(img_height, img_width),\n",
    ")\n",
    "\n",
    "rescale = Rescaling(scale=1.0/255)\n",
    "test_rescale_ds = test_ds.map(lambda image,label:(rescale(image),label))"
   ]
  },
  {
   "cell_type": "markdown",
   "id": "8e636d5c-d902-4ed8-8cf1-75e04f1dfcd9",
   "metadata": {},
   "source": [
    "## A Dense ANN Model"
   ]
  },
  {
   "cell_type": "code",
   "execution_count": 18,
   "id": "d86299ce-91a1-4d48-afd3-47d513bcbb27",
   "metadata": {},
   "outputs": [],
   "source": [
    "# Building a CNN with 3 alternating convolutional layers & pooling layers\n",
    "# with 2 dense hidden layers. Output layer has 3 classes & softmax activation\n",
    "\n",
    "from keras import layers, models, optimizers\n",
    "import pandas as pd\n",
    "\n",
    "# initialize sequential model\n",
    "model_cnn = models.Sequential()\n",
    "\n",
    "# Convolutional layer with 64 filters, and a kernel size of 3x3.\n",
    "# padding = 'same' gives the same output size as input_shape\n",
    "model_cnn.add(layers.Conv2D(64, (3, 3), activation='relu', padding=\"same\", input_shape=(img_height,img_width,3)))\n",
    "\n",
    "# Adding max pooling to reduce the size of output of first conv layer\n",
    "model_cnn.add(layers.MaxPooling2D((2, 2), padding = 'same'))\n",
    "\n",
    "# Second Convolutional layer with Pooling layer to reduce size\n",
    "model_cnn.add(layers.Conv2D(32, (3, 3), activation='relu', padding=\"same\"))\n",
    "model_cnn.add(layers.MaxPooling2D((2, 2), padding = 'same'))\n",
    "\n",
    "# Final convolutional layer & pooling to reduce size\n",
    "model_cnn.add(layers.Conv2D(32, (3, 3), activation='relu', padding=\"same\"))\n",
    "model_cnn.add(layers.MaxPooling2D((2, 2), padding = 'same'))\n",
    "\n",
    "# flattening the output of the conv layer after max pooling \n",
    "# makes it ready for creating dense connections\n",
    "model_cnn.add(layers.Flatten())\n",
    "\n",
    "# Adding a fully connected dense layer with 100 neurons\n",
    "model_cnn.add(layers.Dense(100, activation='relu'))\n",
    "\n",
    "# Adding a fully connected dense layer with 84 neurons\n",
    "model_cnn.add(layers.Dense(84, activation='relu'))\n",
    "\n",
    "# Adding the output layer with 2 neurons and \n",
    "# activation functions as softmax since this is a multi-class classification problem\n",
    "model_cnn.add(layers.Dense(2, activation='softmax'))"
   ]
  },
  {
   "cell_type": "code",
   "execution_count": 19,
   "id": "6d8e88ec-ffb2-4952-a66f-6e8d5e501a04",
   "metadata": {},
   "outputs": [
    {
     "name": "stdout",
     "output_type": "stream",
     "text": [
      "Model: \"sequential\"\n",
      "_________________________________________________________________\n",
      " Layer (type)                Output Shape              Param #   \n",
      "=================================================================\n",
      " conv2d (Conv2D)             (None, 128, 128, 64)      1792      \n",
      "                                                                 \n",
      " max_pooling2d (MaxPooling2  (None, 64, 64, 64)        0         \n",
      " D)                                                              \n",
      "                                                                 \n",
      " conv2d_1 (Conv2D)           (None, 64, 64, 32)        18464     \n",
      "                                                                 \n",
      " max_pooling2d_1 (MaxPoolin  (None, 32, 32, 32)        0         \n",
      " g2D)                                                            \n",
      "                                                                 \n",
      " conv2d_2 (Conv2D)           (None, 32, 32, 32)        9248      \n",
      "                                                                 \n",
      " max_pooling2d_2 (MaxPoolin  (None, 16, 16, 32)        0         \n",
      " g2D)                                                            \n",
      "                                                                 \n",
      " flatten (Flatten)           (None, 8192)              0         \n",
      "                                                                 \n",
      " dense (Dense)               (None, 100)               819300    \n",
      "                                                                 \n",
      " dense_1 (Dense)             (None, 84)                8484      \n",
      "                                                                 \n",
      " dense_2 (Dense)             (None, 2)                 170       \n",
      "                                                                 \n",
      "=================================================================\n",
      "Total params: 857458 (3.27 MB)\n",
      "Trainable params: 857458 (3.27 MB)\n",
      "Non-trainable params: 0 (0.00 Byte)\n",
      "_________________________________________________________________\n"
     ]
    }
   ],
   "source": [
    "# Compile model\n",
    "# RMSprop (Root Mean Square Propagation) is commonly used in training deep neural networks.\n",
    "model_cnn.compile(optimizer=optimizers.RMSprop(learning_rate=1e-4), \n",
    "                  loss='sparse_categorical_crossentropy', \n",
    "                  metrics=['accuracy'])\n",
    "\n",
    "# Generating the summary of the model\n",
    "model_cnn.summary()"
   ]
  },
  {
   "cell_type": "code",
   "execution_count": 20,
   "id": "94882936-3220-4c4c-be23-d4d6110a5166",
   "metadata": {},
   "outputs": [
    {
     "name": "stdout",
     "output_type": "stream",
     "text": [
      "Epoch 1/20\n",
      "214/214 [==============================] - 119s 553ms/step - loss: 0.6044 - accuracy: 0.6987 - val_loss: 0.6556 - val_accuracy: 0.6719\n",
      "Epoch 2/20\n",
      "214/214 [==============================] - 114s 529ms/step - loss: 0.4851 - accuracy: 0.7848 - val_loss: 0.4314 - val_accuracy: 0.8004\n",
      "Epoch 3/20\n",
      "214/214 [==============================] - 116s 540ms/step - loss: 0.4319 - accuracy: 0.8197 - val_loss: 0.3953 - val_accuracy: 0.8549\n",
      "Epoch 4/20\n",
      "214/214 [==============================] - 115s 537ms/step - loss: 0.3941 - accuracy: 0.8389 - val_loss: 0.4658 - val_accuracy: 0.7819\n",
      "Epoch 5/20\n",
      "214/214 [==============================] - 114s 532ms/step - loss: 0.3634 - accuracy: 0.8558 - val_loss: 0.3325 - val_accuracy: 0.8751\n",
      "Epoch 6/20\n",
      "214/214 [==============================] - 113s 526ms/step - loss: 0.3169 - accuracy: 0.8742 - val_loss: 0.3760 - val_accuracy: 0.8358\n",
      "Epoch 7/20\n",
      "214/214 [==============================] - 112s 525ms/step - loss: 0.2692 - accuracy: 0.8970 - val_loss: 0.2240 - val_accuracy: 0.9170\n",
      "Epoch 8/20\n",
      "214/214 [==============================] - 114s 532ms/step - loss: 0.2255 - accuracy: 0.9148 - val_loss: 0.2571 - val_accuracy: 0.9033\n",
      "Epoch 9/20\n",
      "214/214 [==============================] - 113s 528ms/step - loss: 0.1952 - accuracy: 0.9250 - val_loss: 0.1955 - val_accuracy: 0.9255\n",
      "Epoch 10/20\n",
      "214/214 [==============================] - 116s 542ms/step - loss: 0.1746 - accuracy: 0.9318 - val_loss: 0.3798 - val_accuracy: 0.8496\n",
      "Epoch 11/20\n",
      "214/214 [==============================] - 116s 540ms/step - loss: 0.1561 - accuracy: 0.9406 - val_loss: 0.1912 - val_accuracy: 0.9211\n",
      "Epoch 12/20\n",
      "214/214 [==============================] - 115s 536ms/step - loss: 0.1407 - accuracy: 0.9444 - val_loss: 0.2289 - val_accuracy: 0.9062\n",
      "Epoch 13/20\n",
      "214/214 [==============================] - 116s 543ms/step - loss: 0.1307 - accuracy: 0.9488 - val_loss: 0.1185 - val_accuracy: 0.9522\n",
      "Epoch 14/20\n",
      "214/214 [==============================] - 114s 531ms/step - loss: 0.1186 - accuracy: 0.9529 - val_loss: 0.1233 - val_accuracy: 0.9484\n",
      "Epoch 15/20\n",
      "214/214 [==============================] - 115s 535ms/step - loss: 0.1107 - accuracy: 0.9555 - val_loss: 0.1022 - val_accuracy: 0.9619\n",
      "Epoch 16/20\n",
      "214/214 [==============================] - 114s 532ms/step - loss: 0.1028 - accuracy: 0.9594 - val_loss: 0.1401 - val_accuracy: 0.9414\n",
      "Epoch 17/20\n",
      "214/214 [==============================] - 115s 539ms/step - loss: 0.0995 - accuracy: 0.9628 - val_loss: 0.1005 - val_accuracy: 0.9616\n",
      "Epoch 18/20\n",
      "214/214 [==============================] - 116s 542ms/step - loss: 0.0889 - accuracy: 0.9666 - val_loss: 0.1288 - val_accuracy: 0.9490\n",
      "Epoch 19/20\n",
      "214/214 [==============================] - 115s 534ms/step - loss: 0.0858 - accuracy: 0.9683 - val_loss: 0.1177 - val_accuracy: 0.9499\n",
      "Epoch 20/20\n",
      "214/214 [==============================] - 114s 534ms/step - loss: 0.0815 - accuracy: 0.9694 - val_loss: 0.0854 - val_accuracy: 0.9678\n"
     ]
    }
   ],
   "source": [
    "#fit the model from image generator\n",
    "history = model_cnn.fit(\n",
    "            train_rescale_ds,\n",
    "            batch_size=64,\n",
    "            epochs=20,\n",
    "            validation_data=val_rescale_ds\n",
    ")"
   ]
  },
  {
   "cell_type": "code",
   "execution_count": 21,
   "id": "0a39d601-04b7-47f7-9f01-13036ab95e32",
   "metadata": {},
   "outputs": [
    {
     "name": "stdout",
     "output_type": "stream",
     "text": [
      "Test Loss: 0.06554103642702103\n",
      "Test Accuracy: 0.9777804017066956\n"
     ]
    }
   ],
   "source": [
    "test_loss, test_accuracy = model_cnn.evaluate(test_rescale_ds, verbose = 0)\n",
    "# validation accuracy\n",
    "print(f'Test Loss: {test_loss}')\n",
    "# test accuracy\n",
    "print(f'Test Accuracy: {test_accuracy}')"
   ]
  },
  {
   "cell_type": "markdown",
   "id": "453435fa-8a9e-46df-8cf7-78c24ffc69f7",
   "metadata": {},
   "source": [
    "## LeNet-5 Architecture"
   ]
  },
  {
   "cell_type": "code",
   "execution_count": 23,
   "id": "b3a3d7a3-140d-47c2-9ad3-47cd4473c26c",
   "metadata": {},
   "outputs": [
    {
     "name": "stdout",
     "output_type": "stream",
     "text": [
      "Model: \"sequential_1\"\n",
      "_________________________________________________________________\n",
      " Layer (type)                Output Shape              Param #   \n",
      "=================================================================\n",
      " conv2d_3 (Conv2D)           (None, 126, 126, 6)       168       \n",
      "                                                                 \n",
      " average_pooling2d (Average  (None, 63, 63, 6)         0         \n",
      " Pooling2D)                                                      \n",
      "                                                                 \n",
      " conv2d_4 (Conv2D)           (None, 61, 61, 16)        880       \n",
      "                                                                 \n",
      " average_pooling2d_1 (Avera  (None, 30, 30, 16)        0         \n",
      " gePooling2D)                                                    \n",
      "                                                                 \n",
      " flatten_1 (Flatten)         (None, 14400)             0         \n",
      "                                                                 \n",
      " dense_3 (Dense)             (None, 120)               1728120   \n",
      "                                                                 \n",
      " dense_4 (Dense)             (None, 84)                10164     \n",
      "                                                                 \n",
      " dense_5 (Dense)             (None, 2)                 170       \n",
      "                                                                 \n",
      "=================================================================\n",
      "Total params: 1739502 (6.64 MB)\n",
      "Trainable params: 1739502 (6.64 MB)\n",
      "Non-trainable params: 0 (0.00 Byte)\n",
      "_________________________________________________________________\n"
     ]
    }
   ],
   "source": [
    "model_lenet5 = models.Sequential()\n",
    "\n",
    "# Layer 1: Convolutional layer with 6 filters of size 3x3, followed by average pooling\n",
    "model_lenet5.add(layers.Conv2D(6, kernel_size=(3, 3), activation='relu', input_shape=(img_height,img_width,3)))\n",
    "model_lenet5.add(layers.AveragePooling2D(pool_size=(2, 2)))\n",
    "\n",
    "# Layer 2: Convolutional layer with 16 filters of size 3x3, followed by average pooling\n",
    "model_lenet5.add(layers.Conv2D(16, kernel_size=(3, 3), activation='relu'))\n",
    "model_lenet5.add(layers.AveragePooling2D(pool_size=(2, 2)))\n",
    "\n",
    "# Flatten the feature maps to feed into fully connected layers\n",
    "model_lenet5.add(layers.Flatten())\n",
    "\n",
    "# Layer 3: Fully connected layer with 120 neurons\n",
    "model_lenet5.add(layers.Dense(120, activation='relu'))\n",
    "\n",
    "# Layer 4: Fully connected layer with 84 neurons\n",
    "model_lenet5.add(layers.Dense(84, activation='relu'))\n",
    "\n",
    "# Output layer: Fully connected layer with num_classes neurons (e.g., 2 )\n",
    "model_lenet5.add(layers.Dense(2, activation='softmax'))\n",
    "\n",
    "# Compile model\n",
    "model_lenet5.compile(optimizer=optimizers.RMSprop(learning_rate=1e-4), \n",
    "                     loss='sparse_categorical_crossentropy', \n",
    "                     metrics=['accuracy'])\n",
    "\n",
    "# Generating the summary of the model\n",
    "model_lenet5.summary()"
   ]
  },
  {
   "cell_type": "code",
   "execution_count": 24,
   "id": "05808305-ef43-439f-bf38-478b0e7b6dc9",
   "metadata": {},
   "outputs": [
    {
     "name": "stdout",
     "output_type": "stream",
     "text": [
      "Epoch 1/20\n",
      "214/214 [==============================] - 22s 100ms/step - loss: 0.6177 - accuracy: 0.6859 - val_loss: 0.5908 - val_accuracy: 0.7435\n",
      "Epoch 2/20\n",
      "214/214 [==============================] - 21s 99ms/step - loss: 0.5120 - accuracy: 0.7739 - val_loss: 0.5355 - val_accuracy: 0.7247\n",
      "Epoch 3/20\n",
      "214/214 [==============================] - 21s 100ms/step - loss: 0.4563 - accuracy: 0.8081 - val_loss: 0.5877 - val_accuracy: 0.7218\n",
      "Epoch 4/20\n",
      "214/214 [==============================] - 21s 98ms/step - loss: 0.4204 - accuracy: 0.8320 - val_loss: 0.3947 - val_accuracy: 0.8429\n",
      "Epoch 5/20\n",
      "214/214 [==============================] - 21s 99ms/step - loss: 0.3965 - accuracy: 0.8405 - val_loss: 0.3848 - val_accuracy: 0.8561\n",
      "Epoch 6/20\n",
      "214/214 [==============================] - 22s 105ms/step - loss: 0.3784 - accuracy: 0.8463 - val_loss: 0.3695 - val_accuracy: 0.8478\n",
      "Epoch 7/20\n",
      "214/214 [==============================] - 22s 101ms/step - loss: 0.3536 - accuracy: 0.8593 - val_loss: 0.3498 - val_accuracy: 0.8561\n",
      "Epoch 8/20\n",
      "214/214 [==============================] - 22s 100ms/step - loss: 0.3279 - accuracy: 0.8687 - val_loss: 0.5605 - val_accuracy: 0.7704\n",
      "Epoch 9/20\n",
      "214/214 [==============================] - 22s 101ms/step - loss: 0.3141 - accuracy: 0.8749 - val_loss: 0.3059 - val_accuracy: 0.8854\n",
      "Epoch 10/20\n",
      "214/214 [==============================] - 21s 99ms/step - loss: 0.2947 - accuracy: 0.8834 - val_loss: 0.3716 - val_accuracy: 0.8490\n",
      "Epoch 11/20\n",
      "214/214 [==============================] - 21s 99ms/step - loss: 0.2789 - accuracy: 0.8888 - val_loss: 0.3133 - val_accuracy: 0.8731\n",
      "Epoch 12/20\n",
      "214/214 [==============================] - 21s 99ms/step - loss: 0.2636 - accuracy: 0.8975 - val_loss: 0.3489 - val_accuracy: 0.8549\n",
      "Epoch 13/20\n",
      "214/214 [==============================] - 22s 100ms/step - loss: 0.2491 - accuracy: 0.9019 - val_loss: 0.3187 - val_accuracy: 0.8648\n",
      "Epoch 14/20\n",
      "214/214 [==============================] - 22s 101ms/step - loss: 0.2349 - accuracy: 0.9093 - val_loss: 0.2595 - val_accuracy: 0.8980\n",
      "Epoch 15/20\n",
      "214/214 [==============================] - 21s 99ms/step - loss: 0.2247 - accuracy: 0.9128 - val_loss: 0.5707 - val_accuracy: 0.8045\n",
      "Epoch 16/20\n",
      "214/214 [==============================] - 21s 98ms/step - loss: 0.2135 - accuracy: 0.9175 - val_loss: 0.3551 - val_accuracy: 0.8514\n",
      "Epoch 17/20\n",
      "214/214 [==============================] - 21s 99ms/step - loss: 0.2010 - accuracy: 0.9212 - val_loss: 0.2581 - val_accuracy: 0.8953\n",
      "Epoch 18/20\n",
      "214/214 [==============================] - 21s 100ms/step - loss: 0.1939 - accuracy: 0.9254 - val_loss: 0.2098 - val_accuracy: 0.9191\n",
      "Epoch 19/20\n",
      "214/214 [==============================] - 21s 98ms/step - loss: 0.1854 - accuracy: 0.9290 - val_loss: 0.2002 - val_accuracy: 0.9226\n",
      "Epoch 20/20\n",
      "214/214 [==============================] - 22s 101ms/step - loss: 0.1791 - accuracy: 0.9316 - val_loss: 0.2170 - val_accuracy: 0.9129\n"
     ]
    }
   ],
   "source": [
    "history = model_lenet5.fit(\n",
    "            train_rescale_ds,\n",
    "            batch_size=64,\n",
    "            epochs=20,\n",
    "            validation_data=val_rescale_ds\n",
    ")"
   ]
  },
  {
   "cell_type": "code",
   "execution_count": 25,
   "id": "af0de671-fb84-41e0-afa1-7ae95de50dad",
   "metadata": {},
   "outputs": [
    {
     "name": "stdout",
     "output_type": "stream",
     "text": [
      "Test Loss: 0.17372162640094757\n",
      "Test Accuracy: 0.931934118270874\n"
     ]
    }
   ],
   "source": [
    "test_loss, test_accuracy = model_lenet5.evaluate(test_rescale_ds, verbose = 0)\n",
    "# validation accuracy\n",
    "print(f'Test Loss: {test_loss}')\n",
    "# test accuracy\n",
    "print(f'Test Accuracy: {test_accuracy}')"
   ]
  },
  {
   "cell_type": "code",
   "execution_count": null,
   "id": "337ad6a2-d07b-4f00-9af1-45bd2b547c0b",
   "metadata": {},
   "outputs": [],
   "source": []
  }
 ],
 "metadata": {
  "kernelspec": {
   "display_name": "Python 3 (ipykernel)",
   "language": "python",
   "name": "python3"
  },
  "language_info": {
   "codemirror_mode": {
    "name": "ipython",
    "version": 3
   },
   "file_extension": ".py",
   "mimetype": "text/x-python",
   "name": "python",
   "nbconvert_exporter": "python",
   "pygments_lexer": "ipython3",
   "version": "3.11.1"
  }
 },
 "nbformat": 4,
 "nbformat_minor": 5
}
